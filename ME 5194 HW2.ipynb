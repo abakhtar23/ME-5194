{
 "cells": [
  {
   "cell_type": "markdown",
   "id": "brave-russian",
   "metadata": {},
   "source": [
    "# ME 5194: HW 2\n",
    "\n",
    "### Adrian Bakhtar"
   ]
  },
  {
   "cell_type": "markdown",
   "id": "vanilla-casino",
   "metadata": {},
   "source": [
    "# CHAPTER 3"
   ]
  },
  {
   "cell_type": "markdown",
   "id": "concrete-spencer",
   "metadata": {},
   "source": [
    "## Exercise 3.1\n",
    "\n",
    "Write a function named right_justify that takes a string named s as a parameter\n",
    "and prints the string with enough leading spaces so that the last letter of the string is in column 70\n",
    "of the display."
   ]
  },
  {
   "cell_type": "code",
   "execution_count": null,
   "id": "still-assault",
   "metadata": {},
   "outputs": [],
   "source": [
    "def right_justify(string, column_num):\n",
    "    arg_length = len(string)\n",
    "    diff_to_column = column_num-arg_length\n",
    "    result = ' '*diff_to_column+string\n",
    "    print(result)\n",
    "    print('The last letter of the inputted string is at column {}.'.format(len(result)))\n",
    "\n",
    "right_justify('asdfl;kj', 90)"
   ]
  },
  {
   "cell_type": "markdown",
   "id": "cross-prospect",
   "metadata": {},
   "source": [
    "## Exercise 3.3\n",
    "\n",
    "1. Write a function that draws a grid like the following:\n",
    "                                        + - - - - + - - - - +\n",
    "                                        |         |         |\n",
    "                                        |         |         |\n",
    "                                        |         |         |\n",
    "                                        |         |         |\n",
    "                                        + - - - - + - - - - +\n",
    "                                        |         |         |\n",
    "                                        |         |         |\n",
    "                                        |         |         |\n",
    "                                        |         |         |\n",
    "                                        + - - - - + - - - - +\n",
    "                                        \n",
    "*Hint: to print more than one value on a line, you can print a comma-separated sequence of\n",
    "values:* \n",
    "    print('+', '-')\n",
    "\n",
    "By default, print advances to the next line, but you can override that behavior and put a\n",
    "space at the end, like this:     \n",
    "    print('+', end=' ')      \n",
    "    print('-')\n",
    "\n",
    "The output of these statements is '+ -' on the same line. The output from the next print\n",
    "statement would begin on the next line.\n",
    "\n",
    "\n"
   ]
  },
  {
   "cell_type": "code",
   "execution_count": null,
   "id": "expanded-space",
   "metadata": {},
   "outputs": [],
   "source": [
    "def square_grid(num_rows, num_columns, square_size):\n",
    "    \"\"\"\n",
    "        Generates a square grid based off the number of rows, columns, and size of the square \n",
    "        that are entered by the user.\n",
    "    \n",
    "    Args:\n",
    "        num_rows: int\n",
    "            Desired number of rows\n",
    "        num_columns: int\n",
    "            Desired number of columns\n",
    "        square_size: int\n",
    "            Desired size of the square\n",
    "        \n",
    "    \"\"\"\n",
    "    num_squares = num_rows*num_columns\n",
    "    num_pluses = num_squares +1\n",
    "    num_dashes = num_vert_bar = square_size\n",
    "    \n",
    "    for j in range(num_rows):\n",
    "        print(('+' + ' - '*num_dashes)*num_columns + '+')\n",
    "    \n",
    "        for i in range(square_size):\n",
    "            print(('|' + '   '*num_vert_bar)*num_columns + '|')\n",
    "\n",
    "    print(('+' + ' - '*num_dashes)*num_columns + '+')  \n",
    "\n",
    "square_grid(2, 2, 4)\n"
   ]
  },
  {
   "cell_type": "markdown",
   "id": "precise-bracket",
   "metadata": {},
   "source": [
    "2. Write a function that draws a similar grid with four rows and four columns.\n"
   ]
  },
  {
   "cell_type": "code",
   "execution_count": null,
   "id": "suitable-ecology",
   "metadata": {},
   "outputs": [],
   "source": [
    "square_grid(4,4,3)"
   ]
  },
  {
   "cell_type": "markdown",
   "id": "fixed-kitty",
   "metadata": {},
   "source": [
    "# CHAPTER 4: TURTLE ACTIVITY\n",
    "\n",
    "\n",
    "*I was having some trouble running this code. I kept getting a traceback error once I tried to move the turtle. After splitting the code into 3 cells, it works more consistently, but I still get these traceback errors. I would have to restart and clear output from the kernal before running it again. I think it is something to do with running this in a Jupyter Notebook.*\n"
   ]
  },
  {
   "cell_type": "code",
   "execution_count": null,
   "id": "third-school",
   "metadata": {},
   "outputs": [],
   "source": [
    "import turtle\n",
    "\n",
    "t = turtle.Turtle()\n",
    "print(t)\n",
    "\n"
   ]
  },
  {
   "cell_type": "code",
   "execution_count": null,
   "id": "oriented-print",
   "metadata": {},
   "outputs": [],
   "source": [
    "for i in range(4):\n",
    "    t.fd(100)\n",
    "    t.lt(90)\n",
    "    \n"
   ]
  },
  {
   "cell_type": "code",
   "execution_count": null,
   "id": "administrative-relations",
   "metadata": {},
   "outputs": [],
   "source": [
    "turtle.mainloop()"
   ]
  },
  {
   "cell_type": "markdown",
   "id": "documented-drilling",
   "metadata": {},
   "source": [
    "## Exercise 4.1\n",
    "\n",
    "Write a function called square that takes a parameter named t, which is a turtle. It\n",
    "should use the turtle to draw a square.\n",
    "Write a function call that passes bob as an argument to square, and then run the\n",
    "program again."
   ]
  },
  {
   "cell_type": "code",
   "execution_count": 14,
   "id": "theoretical-explorer",
   "metadata": {},
   "outputs": [
    {
     "name": "stdout",
     "output_type": "stream",
     "text": [
      "<turtle.Turtle object at 0xb0a76238>\n"
     ]
    }
   ],
   "source": [
    "import turtle\n",
    "\n",
    "bob = turtle.Turtle()\n",
    "print(bob)\n"
   ]
  },
  {
   "cell_type": "code",
   "execution_count": 15,
   "id": "handled-netscape",
   "metadata": {},
   "outputs": [
    {
     "ename": "TypeError",
     "evalue": "turtle_square() missing 1 required positional argument: 'length'",
     "output_type": "error",
     "traceback": [
      "\u001b[0;31m---------------------------------------------------------------------------\u001b[0m",
      "\u001b[0;31mTypeError\u001b[0m                                 Traceback (most recent call last)",
      "\u001b[0;32m<ipython-input-15-86b51d93ed87>\u001b[0m in \u001b[0;36m<module>\u001b[0;34m\u001b[0m\n\u001b[0;32m----> 1\u001b[0;31m \u001b[0mturtle_square\u001b[0m\u001b[0;34m(\u001b[0m\u001b[0mbob\u001b[0m\u001b[0;34m)\u001b[0m\u001b[0;34m\u001b[0m\u001b[0;34m\u001b[0m\u001b[0m\n\u001b[0m\u001b[1;32m      2\u001b[0m \u001b[0;34m\u001b[0m\u001b[0m\n\u001b[1;32m      3\u001b[0m \u001b[0;32mdef\u001b[0m \u001b[0mturtle_square\u001b[0m\u001b[0;34m(\u001b[0m\u001b[0mturtle_obj\u001b[0m\u001b[0;34m)\u001b[0m\u001b[0;34m:\u001b[0m\u001b[0;34m\u001b[0m\u001b[0;34m\u001b[0m\u001b[0m\n\u001b[1;32m      4\u001b[0m     \u001b[0;32mfor\u001b[0m \u001b[0mi\u001b[0m \u001b[0;32min\u001b[0m \u001b[0mrange\u001b[0m\u001b[0;34m(\u001b[0m\u001b[0;36m4\u001b[0m\u001b[0;34m)\u001b[0m\u001b[0;34m:\u001b[0m\u001b[0;34m\u001b[0m\u001b[0;34m\u001b[0m\u001b[0m\n\u001b[1;32m      5\u001b[0m         \u001b[0mturtle_obj\u001b[0m\u001b[0;34m.\u001b[0m\u001b[0mfd\u001b[0m\u001b[0;34m(\u001b[0m\u001b[0;36m100\u001b[0m\u001b[0;34m)\u001b[0m\u001b[0;34m\u001b[0m\u001b[0;34m\u001b[0m\u001b[0m\n",
      "\u001b[0;31mTypeError\u001b[0m: turtle_square() missing 1 required positional argument: 'length'"
     ]
    }
   ],
   "source": [
    "turtle_square(bob)\n",
    "\n",
    "def turtle_square(turtle_obj):\n",
    "    for i in range(4):\n",
    "        turtle_obj.fd(100)\n",
    "        turtle_obj.lt(90)\n",
    "    turtle_obj.mainloop()\n",
    "\n"
   ]
  },
  {
   "cell_type": "markdown",
   "id": "growing-worse",
   "metadata": {},
   "source": [
    "## Exercise 4.2\n",
    "\n",
    "Add another parameter, named length, to square. Modify the body so length of the\n",
    "sides is length, and then modify the function call to provide a second argument. Run\n",
    "the program again. Test your program with a range of values for length."
   ]
  },
  {
   "cell_type": "code",
   "execution_count": 31,
   "id": "helpful-return",
   "metadata": {},
   "outputs": [
    {
     "name": "stdout",
     "output_type": "stream",
     "text": [
      "<turtle.Turtle object at 0xb3a94e80>\n"
     ]
    }
   ],
   "source": [
    "import turtle\n",
    "\n",
    "bob = turtle.Turtle()\n",
    "print(bob)"
   ]
  },
  {
   "cell_type": "code",
   "execution_count": 32,
   "id": "sophisticated-berkeley",
   "metadata": {},
   "outputs": [
    {
     "ename": "AttributeError",
     "evalue": "'Turtle' object has no attribute 'mainloop'",
     "output_type": "error",
     "traceback": [
      "\u001b[0;31m---------------------------------------------------------------------------\u001b[0m",
      "\u001b[0;31mAttributeError\u001b[0m                            Traceback (most recent call last)",
      "\u001b[0;32m<ipython-input-32-30971f7952e4>\u001b[0m in \u001b[0;36m<module>\u001b[0;34m\u001b[0m\n\u001b[1;32m      8\u001b[0m     \u001b[0mturtle_obj\u001b[0m\u001b[0;34m.\u001b[0m\u001b[0mmainloop\u001b[0m\u001b[0;34m(\u001b[0m\u001b[0;34m)\u001b[0m\u001b[0;34m\u001b[0m\u001b[0;34m\u001b[0m\u001b[0m\n\u001b[1;32m      9\u001b[0m \u001b[0;34m\u001b[0m\u001b[0m\n\u001b[0;32m---> 10\u001b[0;31m \u001b[0mturtle_square\u001b[0m\u001b[0;34m(\u001b[0m\u001b[0mbob\u001b[0m\u001b[0;34m,\u001b[0m \u001b[0;36m100\u001b[0m\u001b[0;34m)\u001b[0m\u001b[0;34m\u001b[0m\u001b[0;34m\u001b[0m\u001b[0m\n\u001b[0m",
      "\u001b[0;32m<ipython-input-32-30971f7952e4>\u001b[0m in \u001b[0;36mturtle_square\u001b[0;34m(turtle_obj, length)\u001b[0m\n\u001b[1;32m      6\u001b[0m         \u001b[0mcounter\u001b[0m\u001b[0;34m+=\u001b[0m\u001b[0;36m25\u001b[0m\u001b[0;34m\u001b[0m\u001b[0;34m\u001b[0m\u001b[0m\n\u001b[1;32m      7\u001b[0m \u001b[0;34m\u001b[0m\u001b[0m\n\u001b[0;32m----> 8\u001b[0;31m     \u001b[0mturtle_obj\u001b[0m\u001b[0;34m.\u001b[0m\u001b[0mmainloop\u001b[0m\u001b[0;34m(\u001b[0m\u001b[0;34m)\u001b[0m\u001b[0;34m\u001b[0m\u001b[0;34m\u001b[0m\u001b[0m\n\u001b[0m\u001b[1;32m      9\u001b[0m \u001b[0;34m\u001b[0m\u001b[0m\n\u001b[1;32m     10\u001b[0m \u001b[0mturtle_square\u001b[0m\u001b[0;34m(\u001b[0m\u001b[0mbob\u001b[0m\u001b[0;34m,\u001b[0m \u001b[0;36m100\u001b[0m\u001b[0;34m)\u001b[0m\u001b[0;34m\u001b[0m\u001b[0;34m\u001b[0m\u001b[0m\n",
      "\u001b[0;31mAttributeError\u001b[0m: 'Turtle' object has no attribute 'mainloop'"
     ]
    }
   ],
   "source": [
    "def turtle_square(turtle_obj, length):\n",
    "    counter = 0\n",
    "    for i in range(20):\n",
    "        turtle_obj.fd(length+counter)\n",
    "        turtle_obj.lt(90)\n",
    "        counter+=25\n",
    "   \n",
    "    turtle_obj.mainloop()\n",
    "\n",
    "turtle_square(bob, 100)\n"
   ]
  },
  {
   "cell_type": "markdown",
   "id": "single-lexington",
   "metadata": {},
   "source": [
    "# CHAPTER 5\n",
    "\n",
    "## Recursion Exercise"
   ]
  },
  {
   "cell_type": "markdown",
   "id": "modified-walter",
   "metadata": {},
   "source": [
    "## Exercise 5.1"
   ]
  },
  {
   "cell_type": "markdown",
   "id": "honest-consultation",
   "metadata": {},
   "source": [
    "The time module provides a function, also named time, that returns the current\n",
    "Greenwich Mean Time in “the epoch”, which is an arbitrary time used as a reference point. On\n",
    "UNIX systems, the epoch is 1 January 1970.\n",
    "\n",
    "Write a script that reads the current time and converts it to a time of day in hours, minutes, and\n",
    "seconds, plus the number of days since the epoch."
   ]
  },
  {
   "cell_type": "code",
   "execution_count": 39,
   "id": "integrated-italy",
   "metadata": {},
   "outputs": [
    {
     "name": "stdout",
     "output_type": "stream",
     "text": [
      "It has been 19376 days, 22 hours, 7 minutes, and 8 seconds since the epoch.\n"
     ]
    }
   ],
   "source": [
    "import time as t\n",
    "\n",
    "def days_since_epoch():\n",
    "    time_sec = t.time() #in seconds since \"the epoch\"\n",
    "    \n",
    "    #Takes current time and divides it by number of seconds in a day\n",
    "    #Stores the quotient as total whole days, modulus as the number of seconds left\n",
    "    days, remaining_seconds1 = divmod(time_sec, 60*60*24)\n",
    "    \n",
    "    #Takes remaining seconds and divides it by number of seconds in an hour\n",
    "    #Stores the quotient as total whole hours, modulus as the number of seconds left\n",
    "    hours, remaining_seconds2 = divmod(remaining_seconds1, 60*60)\n",
    "  \n",
    "    #Takes remaining seconds and divides it by number of seconds in a minute\n",
    "    #Stores the quotient as total whole minutes, modulus as the remaining seconds left\n",
    "    hours, remaining_seconds2 = divmod(remaining_seconds1, 60*60)\n",
    "    minutes, seconds = divmod(remaining_seconds2, 60)\n",
    "    \n",
    "    print('It has been {} days, {} hours, {} minutes, and {} seconds since the epoch.'.format(int(days), int(hours), int(minutes), int(seconds)))\n",
    "    \n",
    "    \n",
    "days_since_epoch()"
   ]
  },
  {
   "cell_type": "markdown",
   "id": "successful-antique",
   "metadata": {},
   "source": [
    "## Exercise 5.6\n",
    "\n",
    "The Koch curve is a fractal that looks something like Figure 5.2. To draw a Koch\n",
    "curve with length x, all you have to do is\n",
    "1. Draw a Koch curve with length x/3.\n",
    "2. Turn left 60 degrees.\n",
    "3. Draw a Koch curve with length x/3.\n",
    "4. Turn right 120 degrees.\n",
    "5. Draw a Koch curve with length x/3.\n",
    "6. Turn left 60 degrees.\n",
    "7. Draw a Koch curve with length x/3.\n",
    "    \n",
    "    "
   ]
  },
  {
   "cell_type": "code",
   "execution_count": 45,
   "id": "devoted-albuquerque",
   "metadata": {},
   "outputs": [
    {
     "name": "stdout",
     "output_type": "stream",
     "text": [
      "<turtle.Turtle object at 0xb0ad9178>\n"
     ]
    }
   ],
   "source": [
    "import turtle\n",
    "\n",
    "t = turtle.Turtle()\n",
    "print(t)"
   ]
  },
  {
   "cell_type": "code",
   "execution_count": 47,
   "id": "quiet-narrow",
   "metadata": {},
   "outputs": [],
   "source": [
    "def draw(t_obj, length, n):\n",
    "    if n == 0:\n",
    "        return\n",
    "    angle = 50\n",
    "    t.fd(length*n)\n",
    "    t.lt(angle)\n",
    "    draw(t, length, n-1)\n",
    "    t.rt(2*angle)\n",
    "    draw(t, length, n-1)\n",
    "    t.lt(angle)\n",
    "    t.bk(length*n)\n",
    "    \n",
    "    \n",
    "draw(t, 10, 3)\n"
   ]
  },
  {
   "cell_type": "code",
   "execution_count": null,
   "id": "indian-biology",
   "metadata": {},
   "outputs": [],
   "source": []
  }
 ],
 "metadata": {
  "kernelspec": {
   "display_name": "Python 3",
   "language": "python",
   "name": "python3"
  },
  "language_info": {
   "codemirror_mode": {
    "name": "ipython",
    "version": 3
   },
   "file_extension": ".py",
   "mimetype": "text/x-python",
   "name": "python",
   "nbconvert_exporter": "python",
   "pygments_lexer": "ipython3",
   "version": "3.9.2"
  }
 },
 "nbformat": 4,
 "nbformat_minor": 5
}
